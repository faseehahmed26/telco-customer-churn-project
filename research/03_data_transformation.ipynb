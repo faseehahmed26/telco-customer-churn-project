{
 "cells": [
  {
   "cell_type": "code",
   "execution_count": 3,
   "metadata": {},
   "outputs": [],
   "source": [
    "import os"
   ]
  },
  {
   "cell_type": "code",
   "execution_count": 4,
   "metadata": {},
   "outputs": [
    {
     "data": {
      "text/plain": [
       "'f:\\\\Faseeh\\\\New folder\\\\4_projects\\\\telco-customer-churn-project\\\\research'"
      ]
     },
     "execution_count": 4,
     "metadata": {},
     "output_type": "execute_result"
    }
   ],
   "source": [
    "%pwd"
   ]
  },
  {
   "cell_type": "code",
   "execution_count": 5,
   "metadata": {},
   "outputs": [],
   "source": [
    "os.chdir(\"../\")"
   ]
  },
  {
   "cell_type": "code",
   "execution_count": 6,
   "metadata": {},
   "outputs": [
    {
     "data": {
      "text/plain": [
       "'f:\\\\Faseeh\\\\New folder\\\\4_projects\\\\telco-customer-churn-project'"
      ]
     },
     "execution_count": 6,
     "metadata": {},
     "output_type": "execute_result"
    }
   ],
   "source": [
    "%pwd"
   ]
  },
  {
   "cell_type": "code",
   "execution_count": 7,
   "metadata": {},
   "outputs": [],
   "source": [
    "from dataclasses import dataclass\n",
    "from pathlib import Path\n",
    "\n",
    "\n",
    "@dataclass(frozen=True)\n",
    "class DataTransformationConfig:\n",
    "    root_dir: Path\n",
    "    data_path: Path"
   ]
  },
  {
   "cell_type": "code",
   "execution_count": 8,
   "metadata": {},
   "outputs": [],
   "source": [
    "from mlProject.constants import *\n",
    "from mlProject.utils.common import read_yaml, create_directories"
   ]
  },
  {
   "cell_type": "code",
   "execution_count": 9,
   "metadata": {},
   "outputs": [],
   "source": [
    "class ConfigurationManager:\n",
    "    def __init__(\n",
    "        self,\n",
    "        config_filepath = CONFIG_FILE_PATH,\n",
    "        params_filepath = PARAMS_FILE_PATH,\n",
    "        schema_filepath = SCHEMA_FILE_PATH):\n",
    "\n",
    "        self.config = read_yaml(config_filepath)\n",
    "        self.params = read_yaml(params_filepath)\n",
    "        self.schema = read_yaml(schema_filepath)\n",
    "\n",
    "        create_directories([self.config.artifacts_root])\n",
    "\n",
    "\n",
    "    \n",
    "    def get_data_transformation_config(self) -> DataTransformationConfig:\n",
    "        config = self.config.data_transformation\n",
    "\n",
    "        create_directories([config.root_dir])\n",
    "\n",
    "        data_transformation_config = DataTransformationConfig(\n",
    "            root_dir=config.root_dir,\n",
    "            data_path=config.data_path,\n",
    "        )\n",
    "        target_column=self.schema.TARGET_COLUMN\n",
    "        return data_transformation_config,target_column"
   ]
  },
  {
   "cell_type": "code",
   "execution_count": 10,
   "metadata": {},
   "outputs": [],
   "source": [
    "import os\n",
    "from mlProject import logger\n",
    "from sklearn.model_selection import train_test_split\n",
    "import pandas as pd\n",
    "import numpy as np\n",
    "from sklearn.model_selection import train_test_split\n",
    "from sklearn.preprocessing import StandardScaler, OneHotEncoder, LabelEncoder\n",
    "from sklearn.impute import SimpleImputer\n",
    "from sklearn.compose import ColumnTransformer\n",
    "from sklearn.pipeline import Pipeline\n",
    "import joblib"
   ]
  },
  {
   "cell_type": "code",
   "execution_count": 14,
   "metadata": {},
   "outputs": [],
   "source": [
    "class DataTransformation:\n",
    "    def __init__(self, config, target_column):\n",
    "        self.config = config\n",
    "        self.target_column = target_column\n",
    "\n",
    "    def train_test_splitting(self):\n",
    "        # Load the dataset\n",
    "        data = pd.read_csv(self.config.data_path)\n",
    "\n",
    "        # Identify numerical and categorical columns\n",
    "        num_features = data.select_dtypes(include=['int64', 'float64']).columns.tolist()\n",
    "        cat_features = data.select_dtypes(include=['object']).columns.tolist()\n",
    "\n",
    "        # Ensure target column is removed from feature lists\n",
    "        if self.target_column in num_features:\n",
    "            num_features.remove(self.target_column)\n",
    "            target_is_numeric = True\n",
    "        elif self.target_column in cat_features:\n",
    "            cat_features.remove(self.target_column)\n",
    "            target_is_numeric = False\n",
    "        else:\n",
    "            raise ValueError(f\"Target column {self.target_column} not found in dataset.\")\n",
    "\n",
    "        # Define transformation pipelines\n",
    "        num_pipeline = Pipeline([\n",
    "            ('scaler', StandardScaler())  # Standardize numerical features\n",
    "        ])\n",
    "\n",
    "        cat_pipeline = Pipeline([\n",
    "            ('encoder', OneHotEncoder(handle_unknown='ignore', sparse_output=False))  # One-hot encode categorical features\n",
    "        ])\n",
    "\n",
    "        # Create preprocessing pipeline\n",
    "        preprocessor = ColumnTransformer([\n",
    "            ('num', num_pipeline, num_features),\n",
    "            ('cat', cat_pipeline, cat_features)\n",
    "        ])\n",
    "\n",
    "        # Apply transformations to features\n",
    "        transformed_features = preprocessor.fit_transform(data.drop(columns=[self.target_column]))\n",
    "\n",
    "        # Save the preprocessor for use during prediction\n",
    "        preprocessor_path = os.path.join(self.config.root_dir, \"preprocessor.pkl\")\n",
    "        joblib.dump(preprocessor, preprocessor_path)\n",
    "        logger.info(f\"Saved preprocessor at {preprocessor_path}\")\n",
    "\n",
    "        # Extract correct feature names\n",
    "        num_feature_names = num_features\n",
    "        cat_feature_names = preprocessor.named_transformers_['cat'].named_steps['encoder'].get_feature_names_out().tolist()\n",
    "        feature_names = num_feature_names + cat_feature_names\n",
    "\n",
    "        # Transform target variable\n",
    "        if target_is_numeric:\n",
    "            transformed_target = data[self.target_column].values  # Keep as-is for regression\n",
    "        else:\n",
    "            label_encoder = LabelEncoder()\n",
    "            transformed_target = label_encoder.fit_transform(data[self.target_column])  # Convert to numeric labels\n",
    "\n",
    "            # Save LabelEncoder to use in inference\n",
    "            label_encoder_path = os.path.join(self.config.root_dir, \"label_encoder.pkl\")\n",
    "            joblib.dump(label_encoder, label_encoder_path)\n",
    "            logger.info(f\"Saved LabelEncoder at {label_encoder_path}\")\n",
    "\n",
    "        # Convert to DataFrame\n",
    "        transformed_df = pd.DataFrame(transformed_features, columns=feature_names)\n",
    "        transformed_df[self.target_column] = transformed_target  # Append transformed target column\n",
    "\n",
    "        # Split data\n",
    "        train, test = train_test_split(transformed_df, test_size=0.25, random_state=42)\n",
    "\n",
    "        # Save transformed datasets\n",
    "        train.to_csv(os.path.join(self.config.root_dir, \"train.csv\"), index=False)\n",
    "        test.to_csv(os.path.join(self.config.root_dir, \"test.csv\"), index=False)\n",
    "\n",
    "        logger.info(f\"Data transformed and split into training ({train.shape}) and test ({test.shape}) sets.\")"
   ]
  },
  {
   "cell_type": "code",
   "execution_count": null,
   "metadata": {},
   "outputs": [
    {
     "name": "stdout",
     "output_type": "stream",
     "text": [
      "[2025-03-14 15:14:49,735: INFO: common: yaml file: config\\config.yaml loaded successfully]\n",
      "[2025-03-14 15:14:49,746: INFO: common: yaml file: params.yaml loaded successfully]\n",
      "[2025-03-14 15:14:49,756: INFO: common: yaml file: schema.yaml loaded successfully]\n",
      "[2025-03-14 15:14:49,762: INFO: common: created directory at: artifacts]\n",
      "[2025-03-14 15:14:49,766: INFO: common: created directory at: artifacts/data_transformation]\n",
      "[2025-03-14 15:14:53,461: INFO: 812645982: Saved preprocessor at artifacts/data_transformation\\preprocessor.pkl]\n",
      "[2025-03-14 15:14:53,548: INFO: 812645982: Saved LabelEncoder at artifacts/data_transformation\\label_encoder.pkl]\n"
     ]
    }
   ],
   "source": [
    "try:\n",
    "    config = ConfigurationManager()\n",
    "    data_transformation_config,target_column= config.get_data_transformation_config()\n",
    "    # print(target_column)\n",
    "    data_transformation = DataTransformation(config=data_transformation_config,target_column=target_column[\"name\"])\n",
    "    data_transformation.train_test_splitting()\n",
    "except Exception as e:\n",
    "    raise e"
   ]
  },
  {
   "cell_type": "code",
   "execution_count": null,
   "metadata": {},
   "outputs": [
    {
     "name": "stdout",
     "output_type": "stream",
     "text": [
      "DOne\n"
     ]
    }
   ],
   "source": [
    "print(\"DOne\")"
   ]
  },
  {
   "cell_type": "code",
   "execution_count": null,
   "metadata": {},
   "outputs": [],
   "source": []
  },
  {
   "cell_type": "code",
   "execution_count": null,
   "metadata": {},
   "outputs": [],
   "source": []
  }
 ],
 "metadata": {
  "kernelspec": {
   "display_name": "Python 3",
   "language": "python",
   "name": "python3"
  },
  "language_info": {
   "codemirror_mode": {
    "name": "ipython",
    "version": 3
   },
   "file_extension": ".py",
   "mimetype": "text/x-python",
   "name": "python",
   "nbconvert_exporter": "python",
   "pygments_lexer": "ipython3",
   "version": "3.10.2"
  }
 },
 "nbformat": 4,
 "nbformat_minor": 2
}
